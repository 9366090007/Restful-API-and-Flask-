{
  "nbformat": 4,
  "nbformat_minor": 0,
  "metadata": {
    "colab": {
      "provenance": []
    },
    "kernelspec": {
      "name": "python3",
      "display_name": "Python 3"
    },
    "language_info": {
      "name": "python"
    }
  },
  "cells": [
    {
      "cell_type": "markdown",
      "source": [
        "# **THEORY**\n",
        "\n",
        "  \n",
        "\n",
        "\n"
      ],
      "metadata": {
        "id": "E7lAM5WaAX3w"
      }
    },
    {
      "cell_type": "markdown",
      "source": [
        "1. What is a RESTful API?\n",
        "\n",
        "    - A RESTful API (Representational State Transfer Application Programming Interface) is an architectural style for building web services that allows different software systems to communicate with each other over the internet.\n",
        "\n",
        "2.  Explain the concept of API specification?\n",
        "\n",
        "     - An API Specification is a detailed document or standard that describes how an API works,including its endpoints,methods,parameters,data formats, and authentication requirements.\n",
        "\n",
        "\n",
        "3. What is Flask, and why is it popular for building APIs?\n",
        "\n",
        "    -  Flask is a lightweight python web framework known for its simplicity and flexibility .\n",
        "            \n",
        "                 It is popular for building APIs because it's easy to get started with,allows developers to choose their own tools and libraries.\n",
        "\n",
        "4. What is routing in Flask?\n",
        "\n",
        "     - Routing in flask refers to the process of mapping URLs to specific python functions within our application.\n",
        "\n",
        "5.  How do you create a simple Flask application ?\n",
        "\n",
        "    - To create a simple flask application :-  \n",
        "\n",
        "    - Import the flask class.\n",
        "    - Create an instance of the flask class.\n",
        "    - Use the @app.route() decorator to define a route and associate it with a python function.\n",
        "    - Run the application using app.run().\n",
        "\n",
        "6. What are HTTP methods used in RESTful APIs?\n",
        "\n",
        "     - Common HTTP methods used in RESTful APIs include:-\n",
        "\n",
        "     - GET\n",
        "     - POST\n",
        "     - PUT\n",
        "     - DELETE.\n",
        "\n",
        "7.  What is the purpose of the @app.route() decorator in Flask?\n",
        "\n",
        "     - The @app.route() decorator in flask is used to associated a URL path with a specific python function.\n",
        "\n",
        "8.  What is the difference between GET and POST HTTP methods/\n",
        "\n",
        "    -  The difference between GET and POST HTTP methods are, in get used to request data from a specific resource . Parameters are sent in the URL query string , making them visible and limited in size Whereas, post used to submit data to a specified resource for processing.\n",
        "\n",
        "9. How do you handle errors in Flask APIs?\n",
        "\n",
        "    -  Errors in flask APIs can be handled using :-  \n",
        "    - Errors handling\n",
        "    - Try - except blocks.\n",
        "    - Custom exception classes.\n",
        "\n",
        "10.  How do you connect Flask to a SQL database?\n",
        "  \n",
        "     - Connecting flask to a SQL database typically involves:-\n",
        "\n",
        "     - Choosing a database ORM or library.\n",
        "     - Configuring the database connection string\n",
        "     - Initialising the ORM / library.\n",
        "\n",
        "11. What is the role of Flask-SQLAlchemy?\n",
        "\n",
        "    - Flask-SQLAlchemy is a flask extension that provides integration with SQLAlchemy , a powerful Object Relational Mapper(ORM) .\n",
        "\n",
        "12.  What are Flask blueprints, and how are they useful?\n",
        "   \n",
        "      - Flask Blueprints are a way to organise our flask application into modular components.\n",
        "       \n",
        "                 This is useful for building larger application,promoting code reuseability,and separating concerns.\n",
        "\n",
        "13.  What is the purpose of Flask's request object?\n",
        "\n",
        "       - Flask's request object is a global object that provides access to incoming request data. it contains information about the current HTTP request, such as form data\n",
        "       (request.form),query parameters\n",
        "       (request.args),JSON data\n",
        "       (request.headers),and more.\n",
        "\n",
        "14. How do you create a RESTful API endpoint using Flask ?\n",
        "   \n",
        "     - To create a RESTful API endpoint using Flask, we typically :-  \n",
        "\n",
        "     - Define a route using @app.route() for a specific URL path.\n",
        "\n",
        "     - Specify the allowed HTTP methods (e.g., methods = ['GET' 'POST']).\n",
        "     \n",
        "     - Write a python function that handles the request and returns data,often in JSON format using jsonify().\n",
        "\n",
        "15.  What is the purpose of Flask's jsonify() function?\n",
        "\n",
        "    - Flask's jsonify() function is used to convert python dictionaries or other data structures into JSON-formatted responses.\n",
        "\n",
        "16.  Explain Flask’s url_for() function.\n",
        "\n",
        "    - Flask's URL for() function is used for URL building. it generates a URL for a given endpoint and any arguments passed to it .\n",
        "\n",
        "17. How does Flask handle static files (CSS, JavaScript, etc.)\n",
        "\n",
        "     - Flask handle static files by serving them from a designe static folder within our application directory.\n",
        "\n",
        "18. What is an API specification, and how does it help in building a Flask AP?\n",
        "\n",
        "   - An API specification is a machine-readable format that describes the structure and capabilities of a RESTful API.\n",
        "                  It helps in building a flask API by :-   \n",
        "                  - Documentation\n",
        "                  - Code Generation\n",
        "                  - Testing\n",
        "                  -Design First\n",
        "\n",
        "19.  What are HTTP status codes, and why are they important in a Flask API?\n",
        "\n",
        "      - HTTP status codes are three-digit numbers returned by a server in response to an HTTP request,including the status of the request.\n",
        "          \n",
        "             They are important in a flask API as they provide clear feedback to clients about the outcome of their request,enabling proper error handling and communication.\n",
        "\n",
        "20.  How do you handle POST requests in Flask?\n",
        "\n",
        "      - To handle POST request in Flask, we define a route and specify methods=['POST'] in the route decorator.\n",
        "\n",
        "21. How would you secure a Flask API?\n",
        "\n",
        "     - Securing a Flask API involves various measures,including:using HTTPS for encrypted communication, implementing authentication,input validation to prevent injection attacks,rate limiting to prevent abuse.\n",
        "\n",
        "22.  What is the significance of the Flask-RESTful extension?\n",
        "\n",
        "      - The Flask-RESTful extension simplifies the creation of RESTful APIs in flask by providing abstraction and tools like Resource classes and request parsers,which streamline the development of API endpoint and handle common tasks like data serialisation and validation.\n",
        "\n",
        "23.  What is the role of Flask’s session object?\n",
        "\n",
        "    - Flask's session object is a dictionary-like object that allows we to store and retrieve data associated with a specific user's session across mutliple request."
      ],
      "metadata": {
        "id": "raH2MJXJA6a5"
      }
    },
    {
      "cell_type": "markdown",
      "source": [
        "## **PRACTICAL**"
      ],
      "metadata": {
        "id": "6XruGB455wa-"
      }
    },
    {
      "cell_type": "code",
      "source": [
        "pip install flask"
      ],
      "metadata": {
        "colab": {
          "base_uri": "https://localhost:8080/"
        },
        "id": "21IbwmF_1uU0",
        "outputId": "887ca17b-554f-41bf-b555-21465c36d9af"
      },
      "execution_count": 6,
      "outputs": [
        {
          "output_type": "stream",
          "name": "stdout",
          "text": [
            "Requirement already satisfied: flask in /usr/local/lib/python3.12/dist-packages (3.1.2)\n",
            "Requirement already satisfied: blinker>=1.9.0 in /usr/local/lib/python3.12/dist-packages (from flask) (1.9.0)\n",
            "Requirement already satisfied: click>=8.1.3 in /usr/local/lib/python3.12/dist-packages (from flask) (8.2.1)\n",
            "Requirement already satisfied: itsdangerous>=2.2.0 in /usr/local/lib/python3.12/dist-packages (from flask) (2.2.0)\n",
            "Requirement already satisfied: jinja2>=3.1.2 in /usr/local/lib/python3.12/dist-packages (from flask) (3.1.6)\n",
            "Requirement already satisfied: markupsafe>=2.1.1 in /usr/local/lib/python3.12/dist-packages (from flask) (3.0.2)\n",
            "Requirement already satisfied: werkzeug>=3.1.0 in /usr/local/lib/python3.12/dist-packages (from flask) (3.1.3)\n"
          ]
        }
      ]
    },
    {
      "cell_type": "code",
      "source": [
        "#  1. How do you create a basic Flask application.\n",
        "\n",
        "from flask import Flask\n",
        "\n",
        "app = Flask(__name__)\n",
        "\n",
        "@app.route('/')\n",
        "def hello_world():\n",
        "    return 'Hello World'\n",
        "\n",
        "if __name__ == '__main__':\n",
        "    app.run(debug=True)"
      ],
      "metadata": {
        "colab": {
          "base_uri": "https://localhost:8080/"
        },
        "id": "E_suasSl2ut1",
        "outputId": "42ba15a8-257b-4a79-fa39-9d254cfdb4af"
      },
      "execution_count": 14,
      "outputs": [
        {
          "output_type": "stream",
          "name": "stdout",
          "text": [
            " * Serving Flask app '__main__'\n",
            " * Debug mode: on\n"
          ]
        },
        {
          "output_type": "stream",
          "name": "stderr",
          "text": [
            "INFO:werkzeug:\u001b[31m\u001b[1mWARNING: This is a development server. Do not use it in a production deployment. Use a production WSGI server instead.\u001b[0m\n",
            " * Running on http://127.0.0.1:5000\n",
            "INFO:werkzeug:\u001b[33mPress CTRL+C to quit\u001b[0m\n",
            "INFO:werkzeug: * Restarting with watchdog (inotify)\n"
          ]
        }
      ]
    },
    {
      "cell_type": "code",
      "source": [
        "# 2.  How do you serve static files like images or CSS in Flask.\n",
        "\n",
        "from flask import Flask, send_from_directory\n",
        "\n",
        "app = Flask(__name__)\n",
        "\n",
        "@app.route('/static/<path:filename>')\n",
        "def serve_static(filename):\n",
        "    return send_from_directory('static', filename)"
      ],
      "metadata": {
        "id": "1dm1Y50y4i3-"
      },
      "execution_count": 15,
      "outputs": []
    },
    {
      "cell_type": "code",
      "source": [
        "#3.  How do you define different routes with different HTTP methods in Flask.\n",
        "\n",
        "@app.route('/hello', methods=['GET', 'POST'])\n",
        "def hello():\n",
        "    if request.method == 'POST':\n",
        "        return 'processing login...'\n",
        "    else:\n",
        "        return 'please login'\n",
        ""
      ],
      "metadata": {
        "id": "OLwT5KBY7lV_"
      },
      "execution_count": 16,
      "outputs": []
    },
    {
      "cell_type": "code",
      "source": [
        "# 4.  How do you render HTML templates in Flask.\n",
        "\n",
        "from flask import Flask, render_template\n",
        "\n",
        "app = Flask(__name__)\n",
        "\n",
        "@app.route('/')\n",
        "def index():\n",
        "    return render_template('index.html')"
      ],
      "metadata": {
        "id": "gure9Nfd8BO1"
      },
      "execution_count": 17,
      "outputs": []
    },
    {
      "cell_type": "code",
      "source": [
        "# 5.  How can you generate URLs for routes in Flask using url_for.\n",
        "\n",
        "from flask import Flask, url_for\n",
        "\n",
        "app = Flask(__name__)\n",
        "\n",
        "@app.route('/')\n",
        "def index():\n",
        "    return 'This is the home page'\n",
        "\n",
        "@app.route('/about')\n",
        "def about():\n",
        "    return 'This is the about page'"
      ],
      "metadata": {
        "id": "bZWYCwaj8JEt"
      },
      "execution_count": 18,
      "outputs": []
    },
    {
      "cell_type": "code",
      "source": [
        "# 6. How do you handle forms in Flask.\n",
        "pass\n",
        "\n"
      ],
      "metadata": {
        "id": "i9CcYz8M8Qxl"
      },
      "execution_count": 19,
      "outputs": []
    },
    {
      "cell_type": "code",
      "source": [
        "# 8. How do you manage sessions in Flask.\n",
        "\n",
        "from flask import Flask, session\n",
        "\n",
        "@app.route('/set_session')\n",
        "def set_session():\n",
        "    session['username'] = 'John Doe'\n",
        "    return 'Session set'"
      ],
      "metadata": {
        "id": "IvLYEvQe8kht"
      },
      "execution_count": 20,
      "outputs": []
    },
    {
      "cell_type": "code",
      "source": [
        "# 9.  How do you redirect to a different route in Flask.\n",
        "\n",
        "from flask import Flask, redirect, url_for\n",
        "\n",
        "@app.route('/old_route')\n",
        "def old_route():\n",
        "    return redirect(url_for('new_route'))\n",
        "\n",
        "@app.route('/new_route')\n",
        "def new_route():\n",
        "    return 'This is the new route'"
      ],
      "metadata": {
        "id": "gD9RyN7383zt"
      },
      "execution_count": 21,
      "outputs": []
    },
    {
      "cell_type": "code",
      "source": [
        "# 10.  How do you handle errors in Flask (e.g., 404).\n",
        "\n",
        "@app.errorhandler(404)\n",
        "def page_not_found(error):\n",
        "    return 'Page not found', 404"
      ],
      "metadata": {
        "id": "ygZxcrIr9LEc"
      },
      "execution_count": 22,
      "outputs": []
    },
    {
      "cell_type": "code",
      "source": [
        "# 11.  How do you structure a Flask app using Blueprints.\n",
        "pass"
      ],
      "metadata": {
        "id": "Z7BUy7Q49TEU"
      },
      "execution_count": 23,
      "outputs": []
    },
    {
      "cell_type": "code",
      "source": [
        "# 12. How do you define a custom Jinja filter in Flask.\n",
        "\n",
        "@app.template_filter('custom_filter')\n",
        "def custom_filter(value):\n",
        "    return value.upper()"
      ],
      "metadata": {
        "id": "Z1TDObOy9YbN"
      },
      "execution_count": 24,
      "outputs": []
    },
    {
      "cell_type": "code",
      "source": [
        "# 13. How can you redirect with query parameters in Flask.\n",
        "\n",
        "from flask import redirect, url_for, request\n",
        "\n",
        "@app.route('/search')\n",
        "def search():\n",
        "    query = request.args.get('q')\n",
        "    return redirect(url_for('search_results', query=query))\n"
      ],
      "metadata": {
        "id": "h9W_MVEm9f3G"
      },
      "execution_count": 29,
      "outputs": []
    },
    {
      "cell_type": "code",
      "source": [
        "# 14. How do you return JSON responses in Flask.\n",
        "\n",
        "from flask import jsonify\n",
        "\n",
        "@app.route('/api/data')\n",
        "def api_data():\n",
        "    data = {'message': 'Hello from the API'}\n",
        "    return jsonify(data)"
      ],
      "metadata": {
        "id": "BWUYNwk_97Ie"
      },
      "execution_count": 30,
      "outputs": []
    },
    {
      "cell_type": "code",
      "source": [
        "# 15.  How do you capture URL parameters in Flask.\n",
        "\n",
        "@app.route('/post/<int:post_id>')\n",
        "def show_post(post_id):\n",
        "    return f'Post ID: {post_id}'"
      ],
      "metadata": {
        "id": "GaCEHRKG-Ld7"
      },
      "execution_count": 31,
      "outputs": []
    },
    {
      "cell_type": "code",
      "source": [],
      "metadata": {
        "id": "9jS10TG3-Yjs"
      },
      "execution_count": null,
      "outputs": []
    },
    {
      "cell_type": "code",
      "source": [],
      "metadata": {
        "id": "ULTwH4S92V0N"
      },
      "execution_count": null,
      "outputs": []
    },
    {
      "cell_type": "code",
      "source": [],
      "metadata": {
        "id": "tJg3zrXY2Tif"
      },
      "execution_count": null,
      "outputs": []
    },
    {
      "cell_type": "code",
      "source": [],
      "metadata": {
        "id": "ilQEKHKx2TlC"
      },
      "execution_count": null,
      "outputs": []
    },
    {
      "cell_type": "code",
      "source": [],
      "metadata": {
        "id": "AUzPmmbp2TsR"
      },
      "execution_count": null,
      "outputs": []
    },
    {
      "cell_type": "code",
      "source": [],
      "metadata": {
        "id": "9nD1_aDs1K--"
      },
      "execution_count": null,
      "outputs": []
    }
  ]
}